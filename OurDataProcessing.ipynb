{
  "nbformat": 4,
  "nbformat_minor": 0,
  "metadata": {
    "kernelspec": {
      "display_name": "Python 3",
      "language": "python",
      "name": "python3"
    },
    "language_info": {
      "codemirror_mode": {
        "name": "ipython",
        "version": 3
      },
      "file_extension": ".py",
      "mimetype": "text/x-python",
      "name": "python",
      "nbconvert_exporter": "python",
      "pygments_lexer": "ipython3",
      "version": "3.8.2"
    },
    "colab": {
      "name": "OurDataProcessing.ipynb",
      "provenance": [],
      "machine_shape": "hm"
    },
    "accelerator": "TPU"
  },
  "cells": [
    {
      "cell_type": "code",
      "metadata": {
        "id": "CDv15qUS4phm",
        "colab_type": "code",
        "outputId": "495766f1-b0f8-4d7b-b62d-3f23a027f588",
        "colab": {
          "base_uri": "https://localhost:8080/",
          "height": 34
        }
      },
      "source": [
        "from google.colab import drive\n",
        "drive.mount('/content/drive')\n"
      ],
      "execution_count": 1,
      "outputs": [
        {
          "output_type": "stream",
          "text": [
            "Drive already mounted at /content/drive; to attempt to forcibly remount, call drive.mount(\"/content/drive\", force_remount=True).\n"
          ],
          "name": "stdout"
        }
      ]
    },
    {
      "cell_type": "code",
      "metadata": {
        "id": "cp4J-Xwp3uQR",
        "colab_type": "code",
        "colab": {}
      },
      "source": [
        "import os\n",
        "import pandas as pd\n",
        "import numpy as np\n",
        "from scipy.io import loadmat\n",
        "\n",
        "\n",
        "cwd = os.getcwd()\n",
        "cwd = os.path.join(cwd,'drive/My Drive/ProcessedData')\n",
        "\n",
        "data = {}\n",
        "\n",
        "folders = os.listdir(cwd)\n",
        "for fruit in folders:\n",
        "    records = []\n",
        "    for record in os.listdir(os.path.join(cwd,fruit)):\n",
        "        records.append(loadmat(os.path.join(cwd,fruit,record)))\n",
        "    data[fruit] = records"
      ],
      "execution_count": 0,
      "outputs": []
    },
    {
      "cell_type": "code",
      "metadata": {
        "id": "1d02JHg_3uQU",
        "colab_type": "code",
        "colab": {
          "base_uri": "https://localhost:8080/",
          "height": 238
        },
        "outputId": "52a974c0-b575-47d6-af62-480f18604e7d"
      },
      "source": [
        "print(data['Banana'][0]['vals'][:1])"
      ],
      "execution_count": 3,
      "outputs": [
        {
          "output_type": "stream",
          "text": [
            "[[[-1.26653463e-01 -1.83449358e-01  7.91000009e-01  2.55000000e+02\n",
            "    2.55000000e+02  2.55000000e+02]\n",
            "  [-1.26653463e-01 -1.83449358e-01  7.91000009e-01  2.55000000e+02\n",
            "    2.55000000e+02  2.55000000e+02]\n",
            "  [-1.24351025e-01 -1.83225185e-01  7.90000021e-01  2.55000000e+02\n",
            "    2.55000000e+02  2.55000000e+02]\n",
            "  ...\n",
            "  [ 2.39752516e-01 -1.77710652e-01  7.68000007e-01  2.55000000e+02\n",
            "    2.55000000e+02  2.55000000e+02]\n",
            "  [ 2.39752516e-01 -1.77710652e-01  7.68000007e-01  2.55000000e+02\n",
            "    2.55000000e+02  2.55000000e+02]\n",
            "  [ 2.39752516e-01 -1.77710652e-01  7.68000007e-01  2.55000000e+02\n",
            "    2.55000000e+02  2.55000000e+02]]]\n"
          ],
          "name": "stdout"
        }
      ]
    },
    {
      "cell_type": "code",
      "metadata": {
        "id": "zwrjNjxw3uQW",
        "colab_type": "code",
        "colab": {}
      },
      "source": [
        "X,y = [],[]\n",
        "for fruit_name in data:\n",
        "    for fruit_sample in data[fruit]:\n",
        "        X.append(fruit_sample['vals'])\n",
        "        y.append(fruit_name)"
      ],
      "execution_count": 0,
      "outputs": []
    },
    {
      "cell_type": "code",
      "metadata": {
        "id": "0F8IyzWA3uQZ",
        "colab_type": "code",
        "colab": {
          "base_uri": "https://localhost:8080/",
          "height": 51
        },
        "outputId": "086d081f-ca19-407b-dff3-62d1fb941a4a"
      },
      "source": [
        "y = np.asarray(y)\n",
        "X = np.asarray(X)\n",
        "print(y.shape)\n",
        "print(X.shape)"
      ],
      "execution_count": 5,
      "outputs": [
        {
          "output_type": "stream",
          "text": [
            "(500,)\n",
            "(500, 500, 500, 6)\n"
          ],
          "name": "stdout"
        }
      ]
    },
    {
      "cell_type": "code",
      "metadata": {
        "id": "0RQJttd03uQb",
        "colab_type": "code",
        "colab": {}
      },
      "source": [
        "X_new = X[:,:,:,[3,4,5,0,1,2]]"
      ],
      "execution_count": 0,
      "outputs": []
    },
    {
      "cell_type": "code",
      "metadata": {
        "id": "f60BOGXF3uQd",
        "colab_type": "code",
        "colab": {}
      },
      "source": [
        "from tensorflow.keras.utils import to_categorical\n",
        "from sklearn.preprocessing import LabelEncoder  \n",
        "\n",
        "le = LabelEncoder()\n",
        "y = le.fit_transform(y)\n",
        "\n",
        "y = to_categorical(y)"
      ],
      "execution_count": 0,
      "outputs": []
    },
    {
      "cell_type": "code",
      "metadata": {
        "id": "M2a3rlii3uQf",
        "colab_type": "code",
        "colab": {}
      },
      "source": [
        "X_new[:,:,:,3:5] += 1\n",
        "X_new[:,:,:,:3] /= 255\n",
        "X_new[:,:,:,3] /= np.amax(X_new[:,:,:,3])\n",
        "X_new[:,:,:,4] /= np.amax(X_new[:,:,:,4])\n",
        "X_new[:,:,:,5] /= np.amax(X_new[:,:,:,5])"
      ],
      "execution_count": 0,
      "outputs": []
    },
    {
      "cell_type": "code",
      "metadata": {
        "id": "rbhjcz-L3uQi",
        "colab_type": "code",
        "colab": {
          "base_uri": "https://localhost:8080/",
          "height": 119
        },
        "outputId": "2394cc4b-a2d5-4ff0-8ec3-a2c6530751aa"
      },
      "source": [
        "from sklearn.model_selection import train_test_split as split\n",
        "\n",
        "X_train, X_test, y_train, y_test = split(X_new, y, test_size=.3)\n",
        "X_train, X_val, y_train, y_val = split(X_train, y_train, test_size=0.3)\n",
        "print(len(X_train))\n",
        "print(len(X_val))\n",
        "print(len(X_test))\n",
        "\n",
        "print(len(y_train))\n",
        "print(len(y_val))\n",
        "print(len(y_test))"
      ],
      "execution_count": 9,
      "outputs": [
        {
          "output_type": "stream",
          "text": [
            "245\n",
            "105\n",
            "150\n",
            "245\n",
            "105\n",
            "150\n"
          ],
          "name": "stdout"
        }
      ]
    },
    {
      "cell_type": "code",
      "metadata": {
        "id": "swdj13Fe3uQm",
        "colab_type": "code",
        "colab": {}
      },
      "source": [
        "from tensorflow.keras.models import Sequential\n",
        "from tensorflow.keras.layers import Dense, Flatten, Conv2D, MaxPooling2D\n",
        "\n",
        "\n",
        "model = Sequential()\n",
        "model.add(Conv2D(40, 2, activation='relu', input_shape=(500,500,6)))\n",
        "model.add(MaxPooling2D(pool_size=(2, 2), padding='valid'))\n",
        "model.add(Conv2D(20, 2, activation='relu', input_shape=(500,500,6)))\n",
        "model.add(MaxPooling2D(pool_size=(2, 2)))\n",
        "model.add(Flatten())\n",
        "model.add(Dense(16, activation='relu'))\n",
        "model.add(Dense(8, activation='relu'))\n",
        "model.add(Dense(5, activation='softmax'))"
      ],
      "execution_count": 0,
      "outputs": []
    },
    {
      "cell_type": "code",
      "metadata": {
        "id": "m7XFOiQ83uQp",
        "colab_type": "code",
        "colab": {}
      },
      "source": [
        "model.compile(loss='categorical_crossentropy', metrics=['accuracy'])"
      ],
      "execution_count": 0,
      "outputs": []
    },
    {
      "cell_type": "code",
      "metadata": {
        "id": "FuMp7eXu3uQs",
        "colab_type": "code",
        "colab": {
          "base_uri": "https://localhost:8080/",
          "height": 425
        },
        "outputId": "0f54fb02-3b7e-439c-ea5b-dd2663674d33"
      },
      "source": [
        "model.summary()"
      ],
      "execution_count": 12,
      "outputs": [
        {
          "output_type": "stream",
          "text": [
            "Model: \"sequential\"\n",
            "_________________________________________________________________\n",
            "Layer (type)                 Output Shape              Param #   \n",
            "=================================================================\n",
            "conv2d (Conv2D)              (None, 499, 499, 40)      1000      \n",
            "_________________________________________________________________\n",
            "max_pooling2d (MaxPooling2D) (None, 249, 249, 40)      0         \n",
            "_________________________________________________________________\n",
            "conv2d_1 (Conv2D)            (None, 248, 248, 20)      3220      \n",
            "_________________________________________________________________\n",
            "max_pooling2d_1 (MaxPooling2 (None, 124, 124, 20)      0         \n",
            "_________________________________________________________________\n",
            "flatten (Flatten)            (None, 307520)            0         \n",
            "_________________________________________________________________\n",
            "dense (Dense)                (None, 16)                4920336   \n",
            "_________________________________________________________________\n",
            "dense_1 (Dense)              (None, 8)                 136       \n",
            "_________________________________________________________________\n",
            "dense_2 (Dense)              (None, 5)                 45        \n",
            "=================================================================\n",
            "Total params: 4,924,737\n",
            "Trainable params: 4,924,737\n",
            "Non-trainable params: 0\n",
            "_________________________________________________________________\n"
          ],
          "name": "stdout"
        }
      ]
    },
    {
      "cell_type": "code",
      "metadata": {
        "id": "Q6WDQlow3uQx",
        "colab_type": "code",
        "colab": {
          "base_uri": "https://localhost:8080/",
          "height": 527
        },
        "outputId": "8ee16669-e23b-424e-fe11-db6deb51630e"
      },
      "source": [
        "hist = model.fit(X_train, y_train, batch_size=40, epochs=15, validation_data=(X_val, y_val))"
      ],
      "execution_count": 13,
      "outputs": [
        {
          "output_type": "stream",
          "text": [
            "Epoch 1/15\n",
            "7/7 [==============================] - 8s 1s/step - loss: 16.1505 - accuracy: 0.1633 - val_loss: 1.6097 - val_accuracy: 0.1905\n",
            "Epoch 2/15\n",
            "7/7 [==============================] - 8s 1s/step - loss: 1.7191 - accuracy: 0.1673 - val_loss: 1.6098 - val_accuracy: 0.2000\n",
            "Epoch 3/15\n",
            "7/7 [==============================] - 8s 1s/step - loss: 1.6093 - accuracy: 0.2122 - val_loss: 1.6098 - val_accuracy: 0.2000\n",
            "Epoch 4/15\n",
            "7/7 [==============================] - 8s 1s/step - loss: 1.6097 - accuracy: 0.2122 - val_loss: 1.6099 - val_accuracy: 0.2000\n",
            "Epoch 5/15\n",
            "7/7 [==============================] - 8s 1s/step - loss: 1.6091 - accuracy: 0.2122 - val_loss: 1.6100 - val_accuracy: 0.2000\n",
            "Epoch 6/15\n",
            "7/7 [==============================] - 8s 1s/step - loss: 1.6096 - accuracy: 0.2122 - val_loss: 1.6100 - val_accuracy: 0.2000\n",
            "Epoch 7/15\n",
            "7/7 [==============================] - 8s 1s/step - loss: 1.6085 - accuracy: 0.2122 - val_loss: 1.6101 - val_accuracy: 0.2000\n",
            "Epoch 8/15\n",
            "7/7 [==============================] - 8s 1s/step - loss: 1.6093 - accuracy: 0.2122 - val_loss: 1.6102 - val_accuracy: 0.2000\n",
            "Epoch 9/15\n",
            "7/7 [==============================] - 8s 1s/step - loss: 1.6093 - accuracy: 0.2122 - val_loss: 1.6101 - val_accuracy: 0.2000\n",
            "Epoch 10/15\n",
            "7/7 [==============================] - 8s 1s/step - loss: 1.6082 - accuracy: 0.2122 - val_loss: 1.6103 - val_accuracy: 0.2000\n",
            "Epoch 11/15\n",
            "7/7 [==============================] - 8s 1s/step - loss: 1.6092 - accuracy: 0.2122 - val_loss: 1.6104 - val_accuracy: 0.2000\n",
            "Epoch 12/15\n",
            "7/7 [==============================] - 8s 1s/step - loss: 1.6086 - accuracy: 0.2122 - val_loss: 1.6105 - val_accuracy: 0.2000\n",
            "Epoch 13/15\n",
            "7/7 [==============================] - 8s 1s/step - loss: 1.6082 - accuracy: 0.2122 - val_loss: 1.6105 - val_accuracy: 0.2000\n",
            "Epoch 14/15\n",
            "7/7 [==============================] - 8s 1s/step - loss: 1.6100 - accuracy: 0.2122 - val_loss: 1.6106 - val_accuracy: 0.2000\n",
            "Epoch 15/15\n",
            "7/7 [==============================] - 8s 1s/step - loss: 1.6104 - accuracy: 0.2122 - val_loss: 1.6106 - val_accuracy: 0.2000\n"
          ],
          "name": "stdout"
        }
      ]
    },
    {
      "cell_type": "code",
      "metadata": {
        "id": "jdd-UMX9159h",
        "colab_type": "code",
        "colab": {
          "base_uri": "https://localhost:8080/",
          "height": 51
        },
        "outputId": "987d0de2-a817-4ab9-a260-812ed6a90342"
      },
      "source": [
        "model.evaluate(X_test, y_test)[1]"
      ],
      "execution_count": 14,
      "outputs": [
        {
          "output_type": "stream",
          "text": [
            "5/5 [==============================] - 1s 104ms/step - loss: 1.6103 - accuracy: 0.1800\n"
          ],
          "name": "stdout"
        },
        {
          "output_type": "execute_result",
          "data": {
            "text/plain": [
              "0.18000000715255737"
            ]
          },
          "metadata": {
            "tags": []
          },
          "execution_count": 14
        }
      ]
    }
  ]
}