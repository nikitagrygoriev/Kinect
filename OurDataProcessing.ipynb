{
  "nbformat": 4,
  "nbformat_minor": 0,
  "metadata": {
    "kernelspec": {
      "display_name": "Python 3",
      "language": "python",
      "name": "python3"
    },
    "language_info": {
      "codemirror_mode": {
        "name": "ipython",
        "version": 3
      },
      "file_extension": ".py",
      "mimetype": "text/x-python",
      "name": "python",
      "nbconvert_exporter": "python",
      "pygments_lexer": "ipython3",
      "version": "3.8.2"
    },
    "colab": {
      "name": "OurDataProcessing.ipynb",
      "provenance": [],
      "collapsed_sections": [],
      "machine_shape": "hm",
      "include_colab_link": true
    },
    "accelerator": "TPU"
  },
  "cells": [
    {
      "cell_type": "markdown",
      "metadata": {
        "id": "view-in-github",
        "colab_type": "text"
      },
      "source": [
        "<a href=\"https://colab.research.google.com/github/nikitagrygoriev/Kinect/blob/master/OurDataProcessing.ipynb\" target=\"_parent\"><img src=\"https://colab.research.google.com/assets/colab-badge.svg\" alt=\"Open In Colab\"/></a>"
      ]
    },
    {
      "cell_type": "markdown",
      "metadata": {
        "id": "HUUAKER0hF2U",
        "colab_type": "text"
      },
      "source": [
        "#Data"
      ]
    },
    {
      "cell_type": "markdown",
      "metadata": {
        "id": "D0VVqmhphKnF",
        "colab_type": "text"
      },
      "source": [
        "###Mounting Drive"
      ]
    },
    {
      "cell_type": "code",
      "metadata": {
        "id": "CDv15qUS4phm",
        "colab_type": "code",
        "colab": {}
      },
      "source": [
        "from google.colab import drive\n",
        "drive.mount('/content/drive')"
      ],
      "execution_count": 0,
      "outputs": []
    },
    {
      "cell_type": "markdown",
      "metadata": {
        "id": "KOoBbybmhOdi",
        "colab_type": "text"
      },
      "source": [
        "###Loading data from Drive"
      ]
    },
    {
      "cell_type": "code",
      "metadata": {
        "id": "cp4J-Xwp3uQR",
        "colab_type": "code",
        "colab": {}
      },
      "source": [
        "import os\n",
        "import pandas as pd\n",
        "import numpy as np\n",
        "from scipy.io import loadmat\n",
        "\n",
        "\n",
        "cwd = os.getcwd()\n",
        "cwd = os.path.join(cwd,'drive/My Drive/ProcessedData')\n",
        "\n",
        "data = {}\n",
        "\n",
        "folders = os.listdir(cwd)\n",
        "for fruit in folders:\n",
        "    records = []\n",
        "    for record in os.listdir(os.path.join(cwd,fruit)):\n",
        "        records.append(loadmat(os.path.join(cwd,fruit,record)))\n",
        "    data[fruit] = records"
      ],
      "execution_count": 0,
      "outputs": []
    },
    {
      "cell_type": "code",
      "metadata": {
        "id": "1d02JHg_3uQU",
        "colab_type": "code",
        "outputId": "44ad3bd6-8a1e-46ec-e21d-6378635a4826",
        "colab": {
          "base_uri": "https://localhost:8080/",
          "height": 238
        }
      },
      "source": [
        "print(data['Banana'][0]['vals'][:1])"
      ],
      "execution_count": 3,
      "outputs": [
        {
          "output_type": "stream",
          "text": [
            "[[[-1.26653463e-01 -1.83449358e-01  7.91000009e-01  2.55000000e+02\n",
            "    2.55000000e+02  2.55000000e+02]\n",
            "  [-1.26653463e-01 -1.83449358e-01  7.91000009e-01  2.55000000e+02\n",
            "    2.55000000e+02  2.55000000e+02]\n",
            "  [-1.24351025e-01 -1.83225185e-01  7.90000021e-01  2.55000000e+02\n",
            "    2.55000000e+02  2.55000000e+02]\n",
            "  ...\n",
            "  [ 2.39752516e-01 -1.77710652e-01  7.68000007e-01  2.55000000e+02\n",
            "    2.55000000e+02  2.55000000e+02]\n",
            "  [ 2.39752516e-01 -1.77710652e-01  7.68000007e-01  2.55000000e+02\n",
            "    2.55000000e+02  2.55000000e+02]\n",
            "  [ 2.39752516e-01 -1.77710652e-01  7.68000007e-01  2.55000000e+02\n",
            "    2.55000000e+02  2.55000000e+02]]]\n"
          ],
          "name": "stdout"
        }
      ]
    },
    {
      "cell_type": "markdown",
      "metadata": {
        "id": "vXi2o1GihUIE",
        "colab_type": "text"
      },
      "source": [
        "###Creating train and test sets"
      ]
    },
    {
      "cell_type": "code",
      "metadata": {
        "id": "zwrjNjxw3uQW",
        "colab_type": "code",
        "colab": {}
      },
      "source": [
        "X,y = [],[]\n",
        "for fruit_name in data:\n",
        "    for fruit_sample in data[fruit_name]:\n",
        "        X.append(fruit_sample['vals'])\n",
        "        y.append(fruit_name)"
      ],
      "execution_count": 0,
      "outputs": []
    },
    {
      "cell_type": "code",
      "metadata": {
        "id": "0F8IyzWA3uQZ",
        "colab_type": "code",
        "outputId": "8571a2d2-f3ca-4457-a0df-dcb39f82515e",
        "colab": {
          "base_uri": "https://localhost:8080/",
          "height": 51
        }
      },
      "source": [
        "y = np.asarray(y)\n",
        "X = np.asarray(X)\n",
        "print(y.shape)\n",
        "print(X.shape)"
      ],
      "execution_count": 5,
      "outputs": [
        {
          "output_type": "stream",
          "text": [
            "(500,)\n",
            "(500, 500, 500, 6)\n"
          ],
          "name": "stdout"
        }
      ]
    },
    {
      "cell_type": "code",
      "metadata": {
        "id": "0RQJttd03uQb",
        "colab_type": "code",
        "colab": {}
      },
      "source": [
        "X_new = X[:,:,:,[3,4,5,0,1,2]]"
      ],
      "execution_count": 0,
      "outputs": []
    },
    {
      "cell_type": "code",
      "metadata": {
        "id": "wLvmboUN-SUa",
        "colab_type": "code",
        "colab": {}
      },
      "source": [
        "X_normalised = X_new[:,:,:,:3] / 255 "
      ],
      "execution_count": 0,
      "outputs": []
    },
    {
      "cell_type": "code",
      "metadata": {
        "id": "zDI2t6ws8vTQ",
        "colab_type": "code",
        "outputId": "279852c5-c9b1-4d56-9a88-a333702f9e42",
        "colab": {
          "base_uri": "https://localhost:8080/",
          "height": 265
        }
      },
      "source": [
        "import matplotlib.pyplot as plt\n",
        "\n",
        "\n",
        "plt.imshow(X_normalised[229,100:401,100:401,:3])\n",
        "plt.margins(x=-.1, y=-.1)\n",
        "plt.show()\n"
      ],
      "execution_count": 8,
      "outputs": [
        {
          "output_type": "display_data",
          "data": {
            "image/png": "[encoded data removed]",
            "text/plain": [
              "<Figure size 432x288 with 1 Axes>"
            ]
          },
          "metadata": {
            "tags": [],
            "needs_background": "light"
          }
        }
      ]
    },
    {
      "cell_type": "markdown",
      "metadata": {
        "id": "TW2Bv_xdhamy",
        "colab_type": "text"
      },
      "source": [
        "###Encoding"
      ]
    },
    {
      "cell_type": "code",
      "metadata": {
        "id": "f60BOGXF3uQd",
        "colab_type": "code",
        "colab": {}
      },
      "source": [
        "from tensorflow.keras.utils import to_categorical\n",
        "from sklearn.preprocessing import LabelEncoder  \n",
        "\n",
        "le = LabelEncoder()\n",
        "y = le.fit_transform(y)\n",
        "\n",
        "y = to_categorical(y)"
      ],
      "execution_count": 0,
      "outputs": []
    },
    {
      "cell_type": "markdown",
      "metadata": {
        "id": "35E5P0KxhdMz",
        "colab_type": "text"
      },
      "source": [
        "###Normalizing"
      ]
    },
    {
      "cell_type": "code",
      "metadata": {
        "id": "M2a3rlii3uQf",
        "colab_type": "code",
        "colab": {}
      },
      "source": [
        "X_new[:,:,:,3:5] += 1\n",
        "X_new[:,:,:,:3] /= 255\n",
        "X_new[:,:,:,3] /= np.amax(X_new[:,:,:,3])\n",
        "X_new[:,:,:,4] /= np.amax(X_new[:,:,:,4])\n",
        "X_new[:,:,:,5] /= np.amax(X_new[:,:,:,5])"
      ],
      "execution_count": 0,
      "outputs": []
    },
    {
      "cell_type": "markdown",
      "metadata": {
        "id": "_ezIC-Tphfvq",
        "colab_type": "text"
      },
      "source": [
        "###Splitting"
      ]
    },
    {
      "cell_type": "code",
      "metadata": {
        "id": "rbhjcz-L3uQi",
        "colab_type": "code",
        "outputId": "5657ad94-5615-48d1-9e40-fe39ced1c070",
        "colab": {
          "base_uri": "https://localhost:8080/",
          "height": 136
        }
      },
      "source": [
        "from sklearn.model_selection import train_test_split as split\n",
        "\n",
        "X_train, X_test, y_train, y_test = split(X_new, y, test_size=.3)\n",
        "X_train, X_val, y_train, y_val = split(X_train, y_train, test_size=0.3)\n",
        "print(len(X_train))\n",
        "print(len(X_val))\n",
        "print(len(X_test))\n",
        "print()\n",
        "print(len(y_train))\n",
        "print(len(y_val))\n",
        "print(len(y_test))"
      ],
      "execution_count": 11,
      "outputs": [
        {
          "output_type": "stream",
          "text": [
            "245\n",
            "105\n",
            "150\n",
            "\n",
            "245\n",
            "105\n",
            "150\n"
          ],
          "name": "stdout"
        }
      ]
    },
    {
      "cell_type": "markdown",
      "metadata": {
        "id": "nsEFzgWEhiGg",
        "colab_type": "text"
      },
      "source": [
        "#RGB Model"
      ]
    },
    {
      "cell_type": "code",
      "metadata": {
        "id": "swdj13Fe3uQm",
        "colab_type": "code",
        "colab": {}
      },
      "source": [
        "from tensorflow.keras.models import Sequential\n",
        "from tensorflow.keras.layers import Dense, Flatten, Conv2D, MaxPooling2D\n",
        "from tensorflow.keras.optimizers import Adam, SGD\n",
        "\n",
        "model = Sequential()\n",
        "model.add(Conv2D(20, 2, activation='relu', input_shape=(500,500,3)))\n",
        "model.add(MaxPooling2D(pool_size=(2, 2), padding='valid'))\n",
        "model.add(Conv2D(30, 2, activation='relu'))\n",
        "model.add(MaxPooling2D(pool_size=(2, 2)))\n",
        "model.add(MaxPooling2D(pool_size=(2, 2)))\n",
        "model.add(Flatten())\n",
        "model.add(Dense(48, activation='relu'))\n",
        "model.add(Dense(16, activation='relu'))\n",
        "model.add(Dense(5, activation='softmax'))"
      ],
      "execution_count": 0,
      "outputs": []
    },
    {
      "cell_type": "code",
      "metadata": {
        "id": "m7XFOiQ83uQp",
        "colab_type": "code",
        "outputId": "3baeb8f3-07e2-4770-9e11-68e4fe896516",
        "colab": {
          "base_uri": "https://localhost:8080/",
          "height": 459
        }
      },
      "source": [
        "model.compile(loss='categorical_crossentropy', metrics=['accuracy'])\n",
        "#optimizer=SGD(learning_rate=0.01, momentum=.7, nesterov=True)\n",
        "model.summary()"
      ],
      "execution_count": 13,
      "outputs": [
        {
          "output_type": "stream",
          "text": [
            "Model: \"sequential\"\n",
            "_________________________________________________________________\n",
            "Layer (type)                 Output Shape              Param #   \n",
            "=================================================================\n",
            "conv2d (Conv2D)              (None, 499, 499, 20)      260       \n",
            "_________________________________________________________________\n",
            "max_pooling2d (MaxPooling2D) (None, 249, 249, 20)      0         \n",
            "_________________________________________________________________\n",
            "conv2d_1 (Conv2D)            (None, 248, 248, 30)      2430      \n",
            "_________________________________________________________________\n",
            "max_pooling2d_1 (MaxPooling2 (None, 124, 124, 30)      0         \n",
            "_________________________________________________________________\n",
            "max_pooling2d_2 (MaxPooling2 (None, 62, 62, 30)        0         \n",
            "_________________________________________________________________\n",
            "flatten (Flatten)            (None, 115320)            0         \n",
            "_________________________________________________________________\n",
            "dense (Dense)                (None, 48)                5535408   \n",
            "_________________________________________________________________\n",
            "dense_1 (Dense)              (None, 16)                784       \n",
            "_________________________________________________________________\n",
            "dense_2 (Dense)              (None, 5)                 85        \n",
            "=================================================================\n",
            "Total params: 5,538,967\n",
            "Trainable params: 5,538,967\n",
            "Non-trainable params: 0\n",
            "_________________________________________________________________\n"
          ],
          "name": "stdout"
        }
      ]
    },
    {
      "cell_type": "code",
      "metadata": {
        "id": "Q6WDQlow3uQx",
        "colab_type": "code",
        "outputId": "7f759736-7470-4515-be49-8a781b0c7ec0",
        "colab": {
          "base_uri": "https://localhost:8080/",
          "height": 527
        }
      },
      "source": [
        "hist = model.fit(X_train[:,:,:,:3], y_train, batch_size=40, epochs=15, validation_data=(X_val[:,:,:,:3], y_val))"
      ],
      "execution_count": 14,
      "outputs": [
        {
          "output_type": "stream",
          "text": [
            "Epoch 1/15\n",
            "7/7 [==============================] - 5s 766ms/step - loss: 16.7750 - accuracy: 0.1796 - val_loss: 7.0108 - val_accuracy: 0.1810\n",
            "Epoch 2/15\n",
            "7/7 [==============================] - 5s 735ms/step - loss: 3.9677 - accuracy: 0.2367 - val_loss: 2.3125 - val_accuracy: 0.1810\n",
            "Epoch 3/15\n",
            "7/7 [==============================] - 5s 714ms/step - loss: 1.7687 - accuracy: 0.3265 - val_loss: 1.5434 - val_accuracy: 0.2000\n",
            "Epoch 4/15\n",
            "7/7 [==============================] - 5s 723ms/step - loss: 1.6549 - accuracy: 0.2163 - val_loss: 1.4528 - val_accuracy: 0.2286\n",
            "Epoch 5/15\n",
            "7/7 [==============================] - 5s 718ms/step - loss: 1.3746 - accuracy: 0.4367 - val_loss: 1.5454 - val_accuracy: 0.3905\n",
            "Epoch 6/15\n",
            "7/7 [==============================] - 5s 744ms/step - loss: 1.3583 - accuracy: 0.5020 - val_loss: 1.2536 - val_accuracy: 0.6762\n",
            "Epoch 7/15\n",
            "7/7 [==============================] - 5s 721ms/step - loss: 1.1983 - accuracy: 0.5388 - val_loss: 1.4551 - val_accuracy: 0.5333\n",
            "Epoch 8/15\n",
            "7/7 [==============================] - 5s 721ms/step - loss: 0.9589 - accuracy: 0.7061 - val_loss: 2.2773 - val_accuracy: 0.1810\n",
            "Epoch 9/15\n",
            "7/7 [==============================] - 5s 720ms/step - loss: 1.0809 - accuracy: 0.6122 - val_loss: 1.6072 - val_accuracy: 0.4000\n",
            "Epoch 10/15\n",
            "7/7 [==============================] - 5s 725ms/step - loss: 1.1191 - accuracy: 0.5224 - val_loss: 0.7042 - val_accuracy: 0.8095\n",
            "Epoch 11/15\n",
            "7/7 [==============================] - 5s 713ms/step - loss: 0.5722 - accuracy: 0.7918 - val_loss: 0.6342 - val_accuracy: 0.7810\n",
            "Epoch 12/15\n",
            "7/7 [==============================] - 5s 706ms/step - loss: 0.5244 - accuracy: 0.7918 - val_loss: 0.5240 - val_accuracy: 0.8190\n",
            "Epoch 13/15\n",
            "7/7 [==============================] - 5s 719ms/step - loss: 0.4652 - accuracy: 0.8204 - val_loss: 0.3815 - val_accuracy: 0.9143\n",
            "Epoch 14/15\n",
            "7/7 [==============================] - 5s 743ms/step - loss: 0.3812 - accuracy: 0.8612 - val_loss: 1.0966 - val_accuracy: 0.5810\n",
            "Epoch 15/15\n",
            "7/7 [==============================] - 5s 738ms/step - loss: 0.5753 - accuracy: 0.7673 - val_loss: 0.5655 - val_accuracy: 0.8190\n"
          ],
          "name": "stdout"
        }
      ]
    },
    {
      "cell_type": "markdown",
      "metadata": {
        "id": "bipH09tghnOG",
        "colab_type": "text"
      },
      "source": [
        "#RGB Model Accuracy (0.73)"
      ]
    },
    {
      "cell_type": "code",
      "metadata": {
        "id": "jdd-UMX9159h",
        "colab_type": "code",
        "outputId": "0530ad6b-dd57-43f1-b99e-d559d4d1a651",
        "colab": {
          "base_uri": "https://localhost:8080/",
          "height": 51
        }
      },
      "source": [
        "model.evaluate(X_test[:,:,:,:3], y_test)[1]"
      ],
      "execution_count": 15,
      "outputs": [
        {
          "output_type": "stream",
          "text": [
            "5/5 [==============================] - 0s 89ms/step - loss: 0.7418 - accuracy: 0.7267\n"
          ],
          "name": "stdout"
        },
        {
          "output_type": "execute_result",
          "data": {
            "text/plain": [
              "0.7266666889190674"
            ]
          },
          "metadata": {
            "tags": []
          },
          "execution_count": 15
        }
      ]
    },
    {
      "cell_type": "markdown",
      "metadata": {
        "id": "QvmTUW21hs9B",
        "colab_type": "text"
      },
      "source": [
        "#RGB + Kinect Model"
      ]
    },
    {
      "cell_type": "code",
      "metadata": {
        "id": "7O3cLRQgC9Cz",
        "colab_type": "code",
        "outputId": "ba331dad-1f66-431c-f231-c0c05a9be4e3",
        "colab": {
          "base_uri": "https://localhost:8080/",
          "height": 459
        }
      },
      "source": [
        "modelK = Sequential()\n",
        "modelK.add(Conv2D(20, 2, activation='relu', input_shape=(500,500,6)))\n",
        "modelK.add(MaxPooling2D(pool_size=(2, 2), padding='valid'))\n",
        "modelK.add(Conv2D(30, 2, activation='relu'))\n",
        "modelK.add(MaxPooling2D(pool_size=(2, 2)))\n",
        "modelK.add(MaxPooling2D(pool_size=(2, 2)))\n",
        "modelK.add(Flatten())\n",
        "modelK.add(Dense(48, activation='relu'))\n",
        "modelK.add(Dense(16, activation='relu'))\n",
        "modelK.add(Dense(5, activation='softmax'))\n",
        "modelK.compile(loss='categorical_crossentropy', metrics=['accuracy'])\n",
        "modelK.summary()"
      ],
      "execution_count": 16,
      "outputs": [
        {
          "output_type": "stream",
          "text": [
            "Model: \"sequential_1\"\n",
            "_________________________________________________________________\n",
            "Layer (type)                 Output Shape              Param #   \n",
            "=================================================================\n",
            "conv2d_2 (Conv2D)            (None, 499, 499, 20)      500       \n",
            "_________________________________________________________________\n",
            "max_pooling2d_3 (MaxPooling2 (None, 249, 249, 20)      0         \n",
            "_________________________________________________________________\n",
            "conv2d_3 (Conv2D)            (None, 248, 248, 30)      2430      \n",
            "_________________________________________________________________\n",
            "max_pooling2d_4 (MaxPooling2 (None, 124, 124, 30)      0         \n",
            "_________________________________________________________________\n",
            "max_pooling2d_5 (MaxPooling2 (None, 62, 62, 30)        0         \n",
            "_________________________________________________________________\n",
            "flatten_1 (Flatten)          (None, 115320)            0         \n",
            "_________________________________________________________________\n",
            "dense_3 (Dense)              (None, 48)                5535408   \n",
            "_________________________________________________________________\n",
            "dense_4 (Dense)              (None, 16)                784       \n",
            "_________________________________________________________________\n",
            "dense_5 (Dense)              (None, 5)                 85        \n",
            "=================================================================\n",
            "Total params: 5,539,207\n",
            "Trainable params: 5,539,207\n",
            "Non-trainable params: 0\n",
            "_________________________________________________________________\n"
          ],
          "name": "stdout"
        }
      ]
    },
    {
      "cell_type": "code",
      "metadata": {
        "id": "Ljo-LvkCDImi",
        "colab_type": "code",
        "outputId": "1d0d6a35-8ce8-41a3-8533-80fc829b53d0",
        "colab": {
          "base_uri": "https://localhost:8080/",
          "height": 527
        }
      },
      "source": [
        "hist = modelK.fit(X_train, y_train, batch_size=40, epochs=15, validation_data=(X_val, y_val))"
      ],
      "execution_count": 17,
      "outputs": [
        {
          "output_type": "stream",
          "text": [
            "Epoch 1/15\n",
            "7/7 [==============================] - 6s 795ms/step - loss: 2.6358 - accuracy: 0.2327 - val_loss: 1.4998 - val_accuracy: 0.4286\n",
            "Epoch 2/15\n",
            "7/7 [==============================] - 5s 781ms/step - loss: 1.6716 - accuracy: 0.4367 - val_loss: 1.4573 - val_accuracy: 0.2571\n",
            "Epoch 3/15\n",
            "7/7 [==============================] - 6s 799ms/step - loss: 1.7421 - accuracy: 0.4163 - val_loss: 1.1602 - val_accuracy: 0.4190\n",
            "Epoch 4/15\n",
            "7/7 [==============================] - 6s 800ms/step - loss: 1.0177 - accuracy: 0.5388 - val_loss: 2.9124 - val_accuracy: 0.4000\n",
            "Epoch 5/15\n",
            "7/7 [==============================] - 6s 787ms/step - loss: 1.4299 - accuracy: 0.5224 - val_loss: 1.0747 - val_accuracy: 0.4667\n",
            "Epoch 6/15\n",
            "7/7 [==============================] - 5s 774ms/step - loss: 0.7843 - accuracy: 0.7347 - val_loss: 0.6576 - val_accuracy: 0.8095\n",
            "Epoch 7/15\n",
            "7/7 [==============================] - 5s 732ms/step - loss: 0.5981 - accuracy: 0.7878 - val_loss: 0.7858 - val_accuracy: 0.6952\n",
            "Epoch 8/15\n",
            "7/7 [==============================] - 5s 784ms/step - loss: 0.5616 - accuracy: 0.7959 - val_loss: 0.6286 - val_accuracy: 0.7810\n",
            "Epoch 9/15\n",
            "7/7 [==============================] - 5s 782ms/step - loss: 0.5522 - accuracy: 0.7796 - val_loss: 0.5678 - val_accuracy: 0.7810\n",
            "Epoch 10/15\n",
            "7/7 [==============================] - 5s 711ms/step - loss: 0.4483 - accuracy: 0.8000 - val_loss: 0.7423 - val_accuracy: 0.7238\n",
            "Epoch 11/15\n",
            "7/7 [==============================] - 5s 735ms/step - loss: 0.4286 - accuracy: 0.7918 - val_loss: 0.4715 - val_accuracy: 0.8286\n",
            "Epoch 12/15\n",
            "7/7 [==============================] - 5s 729ms/step - loss: 0.3821 - accuracy: 0.8122 - val_loss: 0.4334 - val_accuracy: 0.7905\n",
            "Epoch 13/15\n",
            "7/7 [==============================] - 5s 716ms/step - loss: 0.3162 - accuracy: 0.8082 - val_loss: 0.3552 - val_accuracy: 0.8000\n",
            "Epoch 14/15\n",
            "7/7 [==============================] - 5s 774ms/step - loss: 0.6284 - accuracy: 0.7102 - val_loss: 0.3874 - val_accuracy: 0.7714\n",
            "Epoch 15/15\n",
            "7/7 [==============================] - 5s 752ms/step - loss: 0.2887 - accuracy: 0.8082 - val_loss: 0.3079 - val_accuracy: 0.8095\n"
          ],
          "name": "stdout"
        }
      ]
    },
    {
      "cell_type": "markdown",
      "metadata": {
        "id": "rvJHMqlBhw40",
        "colab_type": "text"
      },
      "source": [
        "#RGB + Kinect Model Accuracy (0.74)"
      ]
    },
    {
      "cell_type": "code",
      "metadata": {
        "id": "MoSvdgTxEgp1",
        "colab_type": "code",
        "outputId": "380323d2-ea22-4af7-a067-be48cdd3409f",
        "colab": {
          "base_uri": "https://localhost:8080/",
          "height": 51
        }
      },
      "source": [
        "modelK.evaluate(X_test, y_test)[1]"
      ],
      "execution_count": 18,
      "outputs": [
        {
          "output_type": "stream",
          "text": [
            "5/5 [==============================] - 0s 84ms/step - loss: 0.4095 - accuracy: 0.7400\n"
          ],
          "name": "stdout"
        },
        {
          "output_type": "execute_result",
          "data": {
            "text/plain": [
              "0.7400000095367432"
            ]
          },
          "metadata": {
            "tags": []
          },
          "execution_count": 18
        }
      ]
    },
    {
      "cell_type": "code",
      "metadata": {
        "id": "r06SsPOvLssE",
        "colab_type": "code",
        "outputId": "9a1be126-eebf-4e36-c187-8bfeecfc1e18",
        "colab": {
          "base_uri": "https://localhost:8080/",
          "height": 68
        }
      },
      "source": [
        "print(X_train.shape)\n",
        "print(X_val.shape)\n",
        "print(X_test.shape)"
      ],
      "execution_count": 19,
      "outputs": [
        {
          "output_type": "stream",
          "text": [
            "(245, 500, 500, 6)\n",
            "(105, 500, 500, 6)\n",
            "(150, 500, 500, 6)\n"
          ],
          "name": "stdout"
        }
      ]
    },
    {
      "cell_type": "code",
      "metadata": {
        "id": "I4BQhlS3dVhT",
        "colab_type": "code",
        "colab": {
          "base_uri": "https://localhost:8080/",
          "height": 459
        },
        "outputId": "72686065-6d43-4862-d9bd-851a35f66314"
      },
      "source": [
        "modelXYZ = Sequential()\n",
        "modelXYZ.add(Conv2D(20, 2, activation='relu', input_shape=(500,500,3)))\n",
        "modelXYZ.add(MaxPooling2D(pool_size=(2, 2), padding='valid'))\n",
        "modelXYZ.add(Conv2D(30, 2, activation='relu'))\n",
        "modelXYZ.add(MaxPooling2D(pool_size=(2, 2)))\n",
        "modelXYZ.add(MaxPooling2D(pool_size=(2, 2)))\n",
        "modelXYZ.add(Flatten())\n",
        "modelXYZ.add(Dense(48, activation='relu'))\n",
        "modelXYZ.add(Dense(16, activation='relu'))\n",
        "modelXYZ.add(Dense(5, activation='softmax'))\n",
        "modelXYZ.compile(loss='categorical_crossentropy', metrics=['accuracy'])\n",
        "modelXYZ.summary()"
      ],
      "execution_count": 23,
      "outputs": [
        {
          "output_type": "stream",
          "text": [
            "Model: \"sequential_2\"\n",
            "_________________________________________________________________\n",
            "Layer (type)                 Output Shape              Param #   \n",
            "=================================================================\n",
            "conv2d_4 (Conv2D)            (None, 499, 499, 20)      260       \n",
            "_________________________________________________________________\n",
            "max_pooling2d_6 (MaxPooling2 (None, 249, 249, 20)      0         \n",
            "_________________________________________________________________\n",
            "conv2d_5 (Conv2D)            (None, 248, 248, 30)      2430      \n",
            "_________________________________________________________________\n",
            "max_pooling2d_7 (MaxPooling2 (None, 124, 124, 30)      0         \n",
            "_________________________________________________________________\n",
            "max_pooling2d_8 (MaxPooling2 (None, 62, 62, 30)        0         \n",
            "_________________________________________________________________\n",
            "flatten_2 (Flatten)          (None, 115320)            0         \n",
            "_________________________________________________________________\n",
            "dense_6 (Dense)              (None, 48)                5535408   \n",
            "_________________________________________________________________\n",
            "dense_7 (Dense)              (None, 16)                784       \n",
            "_________________________________________________________________\n",
            "dense_8 (Dense)              (None, 5)                 85        \n",
            "=================================================================\n",
            "Total params: 5,538,967\n",
            "Trainable params: 5,538,967\n",
            "Non-trainable params: 0\n",
            "_________________________________________________________________\n"
          ],
          "name": "stdout"
        }
      ]
    },
    {
      "cell_type": "markdown",
      "metadata": {
        "id": "x0CPHos9h-81",
        "colab_type": "text"
      },
      "source": [
        "#Kinect Only Model"
      ]
    },
    {
      "cell_type": "code",
      "metadata": {
        "id": "CJ101VfkdaVf",
        "colab_type": "code",
        "colab": {
          "base_uri": "https://localhost:8080/",
          "height": 527
        },
        "outputId": "9e84ae8e-4dd6-4816-a10f-8360ef882587"
      },
      "source": [
        "hist = modelXYZ.fit(X_train[:,:,:,3:], y_train, batch_size=40, epochs=15, validation_data=(X_val[:,:,:,3:], y_val))"
      ],
      "execution_count": 24,
      "outputs": [
        {
          "output_type": "stream",
          "text": [
            "Epoch 1/15\n",
            "7/7 [==============================] - 5s 728ms/step - loss: 17.2646 - accuracy: 0.2000 - val_loss: 2.5834 - val_accuracy: 0.1810\n",
            "Epoch 2/15\n",
            "7/7 [==============================] - 5s 707ms/step - loss: 2.0571 - accuracy: 0.1918 - val_loss: 2.3606 - val_accuracy: 0.1810\n",
            "Epoch 3/15\n",
            "7/7 [==============================] - 5s 693ms/step - loss: 1.7927 - accuracy: 0.1959 - val_loss: 2.0370 - val_accuracy: 0.1810\n",
            "Epoch 4/15\n",
            "7/7 [==============================] - 5s 692ms/step - loss: 1.7593 - accuracy: 0.2122 - val_loss: 1.7408 - val_accuracy: 0.1810\n",
            "Epoch 5/15\n",
            "7/7 [==============================] - 5s 695ms/step - loss: 1.6438 - accuracy: 0.2163 - val_loss: 1.8676 - val_accuracy: 0.2476\n",
            "Epoch 6/15\n",
            "7/7 [==============================] - 5s 713ms/step - loss: 1.7081 - accuracy: 0.1673 - val_loss: 1.6743 - val_accuracy: 0.1810\n",
            "Epoch 7/15\n",
            "7/7 [==============================] - 5s 680ms/step - loss: 1.6288 - accuracy: 0.1592 - val_loss: 1.7249 - val_accuracy: 0.1810\n",
            "Epoch 8/15\n",
            "7/7 [==============================] - 5s 680ms/step - loss: 1.6299 - accuracy: 0.2000 - val_loss: 1.6321 - val_accuracy: 0.1810\n",
            "Epoch 9/15\n",
            "7/7 [==============================] - 5s 648ms/step - loss: 1.6124 - accuracy: 0.2122 - val_loss: 1.6155 - val_accuracy: 0.1810\n",
            "Epoch 10/15\n",
            "7/7 [==============================] - 5s 650ms/step - loss: 1.5964 - accuracy: 0.2449 - val_loss: 4.1350 - val_accuracy: 0.1810\n",
            "Epoch 11/15\n",
            "7/7 [==============================] - 5s 676ms/step - loss: 2.0108 - accuracy: 0.2041 - val_loss: 1.6234 - val_accuracy: 0.1810\n",
            "Epoch 12/15\n",
            "7/7 [==============================] - 5s 675ms/step - loss: 1.6153 - accuracy: 0.2041 - val_loss: 1.6063 - val_accuracy: 0.4190\n",
            "Epoch 13/15\n",
            "7/7 [==============================] - 5s 682ms/step - loss: 1.6575 - accuracy: 0.2449 - val_loss: 1.6066 - val_accuracy: 0.2476\n",
            "Epoch 14/15\n",
            "7/7 [==============================] - 5s 662ms/step - loss: 1.6108 - accuracy: 0.2122 - val_loss: 1.6225 - val_accuracy: 0.1810\n",
            "Epoch 15/15\n",
            "7/7 [==============================] - 5s 680ms/step - loss: 1.6097 - accuracy: 0.2286 - val_loss: 1.6164 - val_accuracy: 0.1810\n"
          ],
          "name": "stdout"
        }
      ]
    },
    {
      "cell_type": "markdown",
      "metadata": {
        "id": "_p0N03i2iDEq",
        "colab_type": "text"
      },
      "source": [
        "#Kinect Only Model Accuracy (0.22)"
      ]
    },
    {
      "cell_type": "code",
      "metadata": {
        "id": "3G9dfEhxdk8E",
        "colab_type": "code",
        "colab": {
          "base_uri": "https://localhost:8080/",
          "height": 51
        },
        "outputId": "f221692f-56fc-4601-8d40-b67e811f2f8a"
      },
      "source": [
        "model.evaluate(X_test[:,:,:,3:], y_test)[1]"
      ],
      "execution_count": 25,
      "outputs": [
        {
          "output_type": "stream",
          "text": [
            "5/5 [==============================] - 0s 86ms/step - loss: 3.7769 - accuracy: 0.2200\n"
          ],
          "name": "stdout"
        },
        {
          "output_type": "execute_result",
          "data": {
            "text/plain": [
              "0.2199999988079071"
            ]
          },
          "metadata": {
            "tags": []
          },
          "execution_count": 25
        }
      ]
    },
    {
      "cell_type": "markdown",
      "metadata": {
        "id": "lqW-NwgaiIAF",
        "colab_type": "text"
      },
      "source": [
        "#Saving Models"
      ]
    },
    {
      "cell_type": "code",
      "metadata": {
        "id": "QAZUybPqc7wu",
        "colab_type": "code",
        "colab": {
          "base_uri": "https://localhost:8080/",
          "height": 68
        },
        "outputId": "7e3a24f8-c4c3-4140-95f8-d35272d85054"
      },
      "source": [
        "model.save('modelRGB')\n",
        "modelK.save('modelRGBXYZ')\n",
        "modelXYZ.save('modelXYZ')"
      ],
      "execution_count": 26,
      "outputs": [
        {
          "output_type": "stream",
          "text": [
            "INFO:tensorflow:Assets written to: modelRGB/assets\n",
            "INFO:tensorflow:Assets written to: modelRGBXYZ/assets\n",
            "INFO:tensorflow:Assets written to: modelXYZ/assets\n"
          ],
          "name": "stdout"
        }
      ]
    }
  ]
}