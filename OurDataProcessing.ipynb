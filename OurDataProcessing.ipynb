{
 "cells": [
  {
   "cell_type": "code",
   "execution_count": 1,
   "metadata": {},
   "outputs": [],
   "source": [
    "import os\n",
    "import pandas as pd\n",
    "import numpy as np\n",
    "from scipy.io import loadmat\n",
    "\n",
    "\n",
    "cwd = os.getcwd()\n",
    "cwd = os.path.join(cwd,'ProcessedData')\n",
    "\n",
    "data = {}\n",
    "\n",
    "folders = os.listdir(cwd)\n",
    "for fruit in folders:\n",
    "    records = []\n",
    "    for record in os.listdir(os.path.join(cwd,fruit)):\n",
    "        records.append(loadmat(os.path.join(cwd,fruit,record)))\n",
    "    data[fruit] = records"
   ]
  },
  {
   "cell_type": "code",
   "execution_count": 2,
   "metadata": {},
   "outputs": [
    {
     "name": "stdout",
     "output_type": "stream",
     "text": [
      "[[[-1.2633322e-01 -1.8298553e-01  7.8900003e-01  2.5500000e+02\n",
      "    2.5500000e+02  2.5500000e+02]\n",
      "  [-1.2633322e-01 -1.8298553e-01  7.8900003e-01  2.5500000e+02\n",
      "    2.5500000e+02  2.5500000e+02]\n",
      "  [-1.2403622e-01 -1.8276133e-01  7.8800005e-01  2.5500000e+02\n",
      "    2.5500000e+02  2.5500000e+02]\n",
      "  ...\n",
      "  [ 2.3975252e-01 -1.7771065e-01  7.6800001e-01  2.5500000e+02\n",
      "    2.5500000e+02  2.5500000e+02]\n",
      "  [ 2.3975252e-01 -1.7771065e-01  7.6800001e-01  2.5500000e+02\n",
      "    2.5500000e+02  2.5500000e+02]\n",
      "  [ 2.3975252e-01 -1.7771065e-01  7.6800001e-01  2.5500000e+02\n",
      "    2.5500000e+02  2.5500000e+02]]]\n"
     ]
    }
   ],
   "source": [
    "print(data['Banana'][0]['vals'][:1])"
   ]
  },
  {
   "cell_type": "code",
   "execution_count": 3,
   "metadata": {},
   "outputs": [],
   "source": [
    "X,y = [],[]\n",
    "for fruit_name in data:\n",
    "    for fruit_sample in data[fruit]:\n",
    "        X.append(fruit_sample['vals'])\n",
    "        y.append(fruit_name)"
   ]
  },
  {
   "cell_type": "code",
   "execution_count": 4,
   "metadata": {},
   "outputs": [
    {
     "name": "stdout",
     "output_type": "stream",
     "text": [
      "(500,)\n",
      "(500, 500, 500, 6)\n"
     ]
    }
   ],
   "source": [
    "y = np.asarray(y)\n",
    "X = np.asarray(X)\n",
    "print(y.shape)\n",
    "print(X.shape)"
   ]
  },
  {
   "cell_type": "code",
   "execution_count": 5,
   "metadata": {},
   "outputs": [],
   "source": [
    "X_new = X[:,:,:,[3,4,5,0,1,2]]"
   ]
  },
  {
   "cell_type": "code",
   "execution_count": 6,
   "metadata": {},
   "outputs": [],
   "source": [
    "from tensorflow.keras.utils import to_categorical\n",
    "from sklearn.preprocessing import LabelEncoder  \n",
    "\n",
    "le = LabelEncoder()\n",
    "y = le.fit_transform(y)\n",
    "\n",
    "y = to_categorical(y)"
   ]
  },
  {
   "cell_type": "code",
   "execution_count": 7,
   "metadata": {},
   "outputs": [],
   "source": [
    "X_new[:,:,:,3:5] += 1\n",
    "X_new[:,:,:,:3] /= 255\n",
    "X_new[:,:,:,3] /= np.amax(X_new[:,:,:,3])\n",
    "X_new[:,:,:,4] /= np.amax(X_new[:,:,:,4])\n",
    "X_new[:,:,:,5] /= np.amax(X_new[:,:,:,5])"
   ]
  },
  {
   "cell_type": "code",
   "execution_count": 8,
   "metadata": {},
   "outputs": [],
   "source": [
    "from sklearn.model_selection import train_test_split as split\n",
    "\n",
    "X_train, X_test, y_train, y_test = split(X_new, y, test_size=.3)"
   ]
  },
  {
   "cell_type": "code",
   "execution_count": 9,
   "metadata": {},
   "outputs": [
    {
     "name": "stdout",
     "output_type": "stream",
     "text": [
      "350\n",
      "150\n",
      "350\n",
      "150\n"
     ]
    }
   ],
   "source": [
    "print(len(X_train))\n",
    "print(len(X_test))\n",
    "print(len(y_train))\n",
    "print(len(y_test))"
   ]
  },
  {
   "cell_type": "code",
   "execution_count": 10,
   "metadata": {},
   "outputs": [],
   "source": [
    "from tensorflow.keras.models import Sequential\n",
    "from tensorflow.keras.layers import Dense, Flatten, Conv2D, MaxPooling2D\n",
    "\n",
    "\n",
    "model = Sequential()\n",
    "model.add(Conv2D(100, (5, 5), activation='relu', input_shape=(500,500,6)))\n",
    "model.add(MaxPooling2D(pool_size=(5, 5)))\n",
    "model.add(Flatten())\n",
    "model.add(Dense(5, activation='softmax'))"
   ]
  },
  {
   "cell_type": "code",
   "execution_count": 11,
   "metadata": {},
   "outputs": [],
   "source": [
    "model.compile(loss='categorical_crossentropy', metrics=['accuracy'])"
   ]
  },
  {
   "cell_type": "code",
   "execution_count": 12,
   "metadata": {},
   "outputs": [
    {
     "name": "stdout",
     "output_type": "stream",
     "text": [
      "Model: \"sequential\"\n",
      "_________________________________________________________________\n",
      "Layer (type)                 Output Shape              Param #   \n",
      "=================================================================\n",
      "conv2d (Conv2D)              (None, 496, 496, 100)     15100     \n",
      "_________________________________________________________________\n",
      "max_pooling2d (MaxPooling2D) (None, 99, 99, 100)       0         \n",
      "_________________________________________________________________\n",
      "flatten (Flatten)            (None, 980100)            0         \n",
      "_________________________________________________________________\n",
      "dense (Dense)                (None, 5)                 4900505   \n",
      "=================================================================\n",
      "Total params: 4,915,605\n",
      "Trainable params: 4,915,605\n",
      "Non-trainable params: 0\n",
      "_________________________________________________________________\n"
     ]
    }
   ],
   "source": [
    "model.summary()"
   ]
  },
  {
   "cell_type": "code",
   "execution_count": 13,
   "metadata": {},
   "outputs": [
    {
     "name": "stdout",
     "output_type": "stream",
     "text": [
      "245\n",
      "105\n",
      "245\n",
      "105\n"
     ]
    }
   ],
   "source": [
    "X_train, X_val, y_train, y_val = split(X_train, y_train, test_size=0.3)\n",
    "print(len(X_train))\n",
    "print(len(X_val))\n",
    "print(len(y_train))\n",
    "print(len(y_val))"
   ]
  },
  {
   "cell_type": "code",
   "execution_count": null,
   "metadata": {},
   "outputs": [
    {
     "name": "stdout",
     "output_type": "stream",
     "text": [
      "Epoch 1/10\n"
     ]
    }
   ],
   "source": [
    "hist = model.fit(X_train, y_train, batch_size=256, epochs=10, validation_data=(X_val, y_val))"
   ]
  }
 ],
 "metadata": {
  "kernelspec": {
   "display_name": "Python 3",
   "language": "python",
   "name": "python3"
  },
  "language_info": {
   "codemirror_mode": {
    "name": "ipython",
    "version": 3
   },
   "file_extension": ".py",
   "mimetype": "text/x-python",
   "name": "python",
   "nbconvert_exporter": "python",
   "pygments_lexer": "ipython3",
   "version": "3.8.2"
  }
 },
 "nbformat": 4,
 "nbformat_minor": 4
}
