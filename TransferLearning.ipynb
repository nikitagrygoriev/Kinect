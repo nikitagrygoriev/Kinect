{
  "nbformat": 4,
  "nbformat_minor": 0,
  "metadata": {
    "colab": {
      "name": "TransferLearning.ipynb",
      "provenance": [],
      "collapsed_sections": [],
      "authorship_tag": "ABX9TyMA07Q0gmzEB2Q98ItzBOq1",
      "include_colab_link": true
    },
    "kernelspec": {
      "name": "python3",
      "display_name": "Python 3"
    },
    "accelerator": "TPU"
  },
  "cells": [
    {
      "cell_type": "markdown",
      "metadata": {
        "id": "view-in-github",
        "colab_type": "text"
      },
      "source": [
        "<a href=\"https://colab.research.google.com/github/nikitagrygoriev/Kinect/blob/master/TransferLearning.ipynb\" target=\"_parent\"><img src=\"https://colab.research.google.com/assets/colab-badge.svg\" alt=\"Open In Colab\"/></a>"
      ]
    },
    {
      "cell_type": "code",
      "metadata": {
        "id": "iVc_PFC8o5x2",
        "colab_type": "code",
        "colab": {}
      },
      "source": [
        "import matplotlib.pylab as plt\n",
        "import tensorflow as tf\n",
        "import tensorflow_hub as hub\n",
        "from tensorflow.keras import layers\n",
        "import numpy as np\n",
        "import PIL.Image as Image\n",
        "import os\n",
        "import pandas as pd\n",
        "from scipy.io import loadmat\n",
        "from tensorflow.keras.utils import to_categorical\n",
        "from sklearn.preprocessing import LabelEncoder  \n",
        "from sklearn.model_selection import train_test_split as split"
      ],
      "execution_count": 0,
      "outputs": []
    },
    {
      "cell_type": "code",
      "metadata": {
        "id": "P5R5HwvFae_h",
        "colab_type": "code",
        "colab": {
          "base_uri": "https://localhost:8080/",
          "height": 34
        },
        "outputId": "b5f38eed-ba62-4c76-c999-6e27308fcf8f"
      },
      "source": [
        "from google.colab import drive\n",
        "drive.mount('/content/drive')"
      ],
      "execution_count": 2,
      "outputs": [
        {
          "output_type": "stream",
          "text": [
            "Drive already mounted at /content/drive; to attempt to forcibly remount, call drive.mount(\"/content/drive\", force_remount=True).\n"
          ],
          "name": "stdout"
        }
      ]
    },
    {
      "cell_type": "code",
      "metadata": {
        "id": "MsCLN7CvafZO",
        "colab_type": "code",
        "colab": {}
      },
      "source": [
        "cwd = os.getcwd()\n",
        "cwd = os.path.join(cwd,'drive/My Drive/ProcessedData')\n",
        "\n",
        "data = {}\n",
        "\n",
        "folders = os.listdir(cwd)\n",
        "for fruit in folders:\n",
        "    records = []\n",
        "    for record in os.listdir(os.path.join(cwd,fruit)):\n",
        "        records.append(loadmat(os.path.join(cwd,fruit,record)))\n",
        "    data[fruit] = records"
      ],
      "execution_count": 0,
      "outputs": []
    },
    {
      "cell_type": "code",
      "metadata": {
        "id": "eNC7JqBNahWQ",
        "colab_type": "code",
        "colab": {}
      },
      "source": [
        "X,y = [],[]\n",
        "for fruit_name in data:\n",
        "  if fruit_name == 'Apple' or fruit_name == 'Orange' or fruit_name == 'Grape' or fruit_name == 'Banana':\n",
        "    for fruit_sample in data[fruit_name]:\n",
        "      X.append(fruit_sample['vals'])\n",
        "      y.append(fruit_name)"
      ],
      "execution_count": 0,
      "outputs": []
    },
    {
      "cell_type": "code",
      "metadata": {
        "id": "3-lbB41Mfund",
        "colab_type": "code",
        "colab": {}
      },
      "source": [
        "y = np.asarray(y)\n",
        "X = np.asarray(X)\n",
        "X_new = X[:,:,:,[3,4,5,0,1,2]]\n",
        "\n",
        "X_new[:,:,:,3:5] += 1\n",
        "X_new[:,:,:,:3] /= 255\n",
        "X_new[:,:,:,3] /= np.amax(X_new[:,:,:,3])\n",
        "X_new[:,:,:,4] /= np.amax(X_new[:,:,:,4])\n",
        "X_new[:,:,:,5] /= np.amax(X_new[:,:,:,5])"
      ],
      "execution_count": 0,
      "outputs": []
    },
    {
      "cell_type": "code",
      "metadata": {
        "id": "J4oxqQDqgB18",
        "colab_type": "code",
        "colab": {
          "base_uri": "https://localhost:8080/",
          "height": 102
        },
        "outputId": "01457ff2-1c09-4298-8d92-d4b6f0d0ac73"
      },
      "source": [
        "X_train, X_test, y_train, y_test = split(X_new, y, test_size=.3)\n",
        "\n",
        "print(len(X_train))\n",
        "print(len(X_test))\n",
        "print()\n",
        "print(len(y_train))\n",
        "print(len(y_test))"
      ],
      "execution_count": 6,
      "outputs": [
        {
          "output_type": "stream",
          "text": [
            "280\n",
            "120\n",
            "\n",
            "280\n",
            "120\n"
          ],
          "name": "stdout"
        }
      ]
    },
    {
      "cell_type": "code",
      "metadata": {
        "id": "4wd4-7mxmL3a",
        "colab_type": "code",
        "colab": {
          "base_uri": "https://localhost:8080/",
          "height": 51
        },
        "outputId": "ae1acb09-a39c-498e-b88f-0447eea4f634"
      },
      "source": [
        "x_tr = []\n",
        "x_v = []\n",
        "\n",
        "for img in X_train:\n",
        "  alpha = Image.fromarray((img[100:401,100:401,:3]*255).astype('uint8'),\"RGB\").resize((224,224))\n",
        "  image = np.array(alpha)\n",
        "  x_tr.append(image)\n",
        "\n",
        "for img2 in X_test:\n",
        "  alpha = Image.fromarray((img2[100:401,100:401,:3]*255).astype('uint8'),\"RGB\").resize((224,224))\n",
        "  image = np.array(alpha)\n",
        "  x_v.append(image)\n",
        "\n",
        "\n",
        "x_tr = np.array(x_tr)/255\n",
        "x_v = np.array(x_v)/255\n",
        "\n",
        "print(x_tr.shape)\n",
        "print(y_train.shape)"
      ],
      "execution_count": 7,
      "outputs": [
        {
          "output_type": "stream",
          "text": [
            "(280, 224, 224, 3)\n",
            "(280,)\n"
          ],
          "name": "stdout"
        }
      ]
    },
    {
      "cell_type": "code",
      "metadata": {
        "id": "663Arpc5xzWV",
        "colab_type": "code",
        "colab": {
          "base_uri": "https://localhost:8080/",
          "height": 34
        },
        "outputId": "34af1e9f-08ef-4dab-da52-54f3b5ae3167"
      },
      "source": [
        "X_test.shape"
      ],
      "execution_count": 8,
      "outputs": [
        {
          "output_type": "execute_result",
          "data": {
            "text/plain": [
              "(120, 500, 500, 6)"
            ]
          },
          "metadata": {
            "tags": []
          },
          "execution_count": 8
        }
      ]
    },
    {
      "cell_type": "code",
      "metadata": {
        "id": "zbWvzhPVm3O5",
        "colab_type": "code",
        "colab": {
          "base_uri": "https://localhost:8080/",
          "height": 241
        },
        "outputId": "b8fd5d9b-850c-44d8-802f-e47360198f28"
      },
      "source": [
        "alpha.show()\n",
        "alpha"
      ],
      "execution_count": 9,
      "outputs": [
        {
          "output_type": "execute_result",
          "data": {
            "image/png": "[encoded data removed]",
            "text/plain": [
              "<PIL.Image.Image image mode=RGB size=224x224 at 0x7F5F2D60F3C8>"
            ]
          },
          "metadata": {
            "tags": []
          },
          "execution_count": 9
        }
      ]
    },
    {
      "cell_type": "code",
      "metadata": {
        "id": "J76klf9gvbAX",
        "colab_type": "code",
        "colab": {}
      },
      "source": [
        "le = LabelEncoder()\n",
        "y_train = le.fit_transform(y_train)\n",
        "\n",
        "y = to_categorical(y_train)\n",
        "\n",
        "le = LabelEncoder()\n",
        "y_v = le.fit_transform(y_test)\n",
        "\n",
        "y_v = to_categorical(y_v)"
      ],
      "execution_count": 0,
      "outputs": []
    },
    {
      "cell_type": "code",
      "metadata": {
        "id": "QLHZC1VVzB2l",
        "colab_type": "code",
        "outputId": "ea59082f-5c42-46d6-94fa-250ae5c63f84",
        "colab": {
          "base_uri": "https://localhost:8080/",
          "height": 408
        }
      },
      "source": [
        "feature_extractor_url = \"https://tfhub.dev/google/tf2-preview/mobilenet_v2/feature_vector/2\" \n",
        "feature_extractor_layer = hub.KerasLayer(feature_extractor_url,\n",
        "                                         input_shape=(224,224,3))\n",
        "\n",
        "feature_extractor_layer.trainable = False\n",
        "\n",
        "model = tf.keras.Sequential([\n",
        "  feature_extractor_layer,\n",
        "  layers.Dense(4)\n",
        "])\n",
        "\n",
        "model.summary()\n",
        "model.compile(\n",
        "  optimizer=tf.keras.optimizers.Adam(),\n",
        "  loss=tf.keras.losses.CategoricalCrossentropy(from_logits=True),\n",
        "  metrics=['acc'])\n",
        "\n",
        "print(image.shape)\n",
        "history = model.fit(x_tr, y, epochs=5, validation_data=(x_v,y_v))"
      ],
      "execution_count": 11,
      "outputs": [
        {
          "output_type": "stream",
          "text": [
            "Model: \"sequential\"\n",
            "_________________________________________________________________\n",
            "Layer (type)                 Output Shape              Param #   \n",
            "=================================================================\n",
            "keras_layer (KerasLayer)     (None, 1280)              2257984   \n",
            "_________________________________________________________________\n",
            "dense (Dense)                (None, 4)                 5124      \n",
            "=================================================================\n",
            "Total params: 2,263,108\n",
            "Trainable params: 5,124\n",
            "Non-trainable params: 2,257,984\n",
            "_________________________________________________________________\n",
            "(224, 224, 3)\n",
            "Epoch 1/5\n",
            "9/9 [==============================] - 14s 2s/step - loss: 0.6483 - acc: 0.8679 - val_loss: 0.1796 - val_acc: 1.0000\n",
            "Epoch 2/5\n",
            "9/9 [==============================] - 13s 1s/step - loss: 0.0975 - acc: 1.0000 - val_loss: 0.0412 - val_acc: 1.0000\n",
            "Epoch 3/5\n",
            "9/9 [==============================] - 13s 1s/step - loss: 0.0280 - acc: 1.0000 - val_loss: 0.0179 - val_acc: 1.0000\n",
            "Epoch 4/5\n",
            "9/9 [==============================] - 13s 1s/step - loss: 0.0143 - acc: 1.0000 - val_loss: 0.0115 - val_acc: 1.0000\n",
            "Epoch 5/5\n",
            "9/9 [==============================] - 13s 1s/step - loss: 0.0099 - acc: 1.0000 - val_loss: 0.0088 - val_acc: 1.0000\n"
          ],
          "name": "stdout"
        }
      ]
    },
    {
      "cell_type": "code",
      "metadata": {
        "id": "e1DHydokwXZX",
        "colab_type": "code",
        "colab": {
          "base_uri": "https://localhost:8080/",
          "height": 51
        },
        "outputId": "7f97baa0-119f-404f-fd55-bf6279545cd8"
      },
      "source": [
        "model.evaluate(x_v, y_v)"
      ],
      "execution_count": 12,
      "outputs": [
        {
          "output_type": "stream",
          "text": [
            "4/4 [==============================] - 3s 808ms/step - loss: 0.0088 - acc: 1.0000\n"
          ],
          "name": "stdout"
        },
        {
          "output_type": "execute_result",
          "data": {
            "text/plain": [
              "[0.008760363794863224, 1.0]"
            ]
          },
          "metadata": {
            "tags": []
          },
          "execution_count": 12
        }
      ]
    }
  ]
}